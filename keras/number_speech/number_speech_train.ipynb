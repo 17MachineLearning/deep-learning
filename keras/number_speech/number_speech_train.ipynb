{
 "cells": [
  {
   "cell_type": "code",
   "execution_count": 1,
   "metadata": {
    "collapsed": false
   },
   "outputs": [
    {
     "name": "stderr",
     "output_type": "stream",
     "text": [
      "Using TensorFlow backend.\n"
     ]
    }
   ],
   "source": [
    "import os\n",
    "import librosa\n",
    "import numpy as np\n",
    "from random import shuffle\n",
    "from collections import Counter\n",
    "from keras.preprocessing.text import text_to_word_sequence, one_hot, Tokenizer\n",
    "from keras.utils import np_utils\n",
    "from keras.models import Sequential\n",
    "from keras.layers import Dense, LSTM, Dropout"
   ]
  },
  {
   "cell_type": "code",
   "execution_count": 2,
   "metadata": {
    "collapsed": true
   },
   "outputs": [],
   "source": [
    "# 读取数字语音文件\n",
    "def get_number_speech_mfcc_files(file_path, batch_size=10):\n",
    "    mfcc_batch_features = []\n",
    "    labels = []\n",
    "    files = os.listdir(file_path)\n",
    "    print(\"共加载文件数：\", len(files))\n",
    "    shuffle(files)\n",
    "    for file in files:\n",
    "        if not file.endswith(\".wav\"):\n",
    "            continue\n",
    "        # print(file[0])\n",
    "        labels.append(int(file[0]))\n",
    "\n",
    "        number_speech_file = file_path + file\n",
    "\n",
    "        completion_mfcc_data(mfcc_batch_features, number_speech_file)\n",
    "\n",
    "    mfcc_batch_features = np.array(mfcc_batch_features)\n",
    "    labels = np.array(labels)\n",
    "    print('mfcc_batch_features.shape =', mfcc_batch_features.shape)\n",
    "    print('labels.shape =', labels.shape)\n",
    "    return mfcc_batch_features, labels\n",
    "\n",
    "# 补齐mfcc数据\n",
    "def completion_mfcc_data(mfcc_batch_features, speech_file, max_text_speech_len=80):\n",
    "    speech_file, sr = librosa.load(speech_file, mono=True)\n",
    "    mfcc = librosa.feature.mfcc(speech_file, sr)\n",
    "    # print(np.array(mfcc).shape)\n",
    "    # 补齐  (0, 0) 表示水平方向上面下面都加0行\n",
    "    #       (0, 80 - len(mfcc[0])) 表示左面加0列，右面加(max_text_speech_len - len(mfcc[0]))列，保证一共max_text_speech_len列\n",
    "    mfcc_pad = np.pad(mfcc, ((0, 0), (0, max_text_speech_len - len(mfcc[0]))), mode='constant', constant_values=0)\n",
    "    mfcc_batch_features.append(mfcc_pad)"
   ]
  },
  {
   "cell_type": "code",
   "execution_count": 3,
   "metadata": {
    "collapsed": true
   },
   "outputs": [],
   "source": [
    "def create_model(width=20, height=80):\n",
    "    batch_size = 64\n",
    "    classes = 10\n",
    "\n",
    "    print('建立模型...')\n",
    "    model = Sequential()\n",
    "    model.add(LSTM(128 * 4, input_shape=(width, height)))\n",
    "    model.add(Dropout(0.5))\n",
    "    model.add(Dense(classes, activation='softmax'))\n",
    "    model.summary()\n",
    "    model.compile(loss='categorical_crossentropy', optimizer='adam', metrics=['accuracy'])\n",
    "    print('建立模型成功...')\n",
    "\n",
    "    return model"
   ]
  },
  {
   "cell_type": "code",
   "execution_count": 5,
   "metadata": {
    "collapsed": false
   },
   "outputs": [
    {
     "name": "stdout",
     "output_type": "stream",
     "text": [
      "获取训练数据...\n",
      "共加载文件数： 2400\n",
      "mfcc_batch_features.shape = (2400, 20, 80)\n",
      "labels.shape = (2400,)\n",
      "获取训练数据成功...\n",
      "20\n",
      "80\n",
      "开始训练...\n",
      "建立模型...\n",
      "_________________________________________________________________\n",
      "Layer (type)                 Output Shape              Param #   \n",
      "=================================================================\n",
      "lstm_1 (LSTM)                (None, 512)               1214464   \n",
      "_________________________________________________________________\n",
      "dropout_1 (Dropout)          (None, 512)               0         \n",
      "_________________________________________________________________\n",
      "dense_1 (Dense)              (None, 10)                5130      \n",
      "=================================================================\n",
      "Total params: 1,219,594\n",
      "Trainable params: 1,219,594\n",
      "Non-trainable params: 0\n",
      "_________________________________________________________________\n",
      "建立模型成功...\n",
      "Train on 1920 samples, validate on 480 samples\n",
      "Epoch 1/30\n",
      "17s - loss: 2.1935 - acc: 0.1917 - val_loss: 1.9882 - val_acc: 0.2646\n",
      "Epoch 2/30\n",
      "15s - loss: 1.8346 - acc: 0.3542 - val_loss: 1.8047 - val_acc: 0.3271\n",
      "Epoch 3/30\n",
      "15s - loss: 1.6232 - acc: 0.3948 - val_loss: 1.6048 - val_acc: 0.4250\n",
      "Epoch 4/30\n",
      "15s - loss: 1.4469 - acc: 0.4750 - val_loss: 1.5640 - val_acc: 0.4167\n",
      "Epoch 5/30\n",
      "15s - loss: 1.2659 - acc: 0.5474 - val_loss: 1.3625 - val_acc: 0.4896\n",
      "Epoch 6/30\n",
      "15s - loss: 1.0388 - acc: 0.6281 - val_loss: 1.2851 - val_acc: 0.5146\n",
      "Epoch 7/30\n",
      "15s - loss: 0.9219 - acc: 0.6583 - val_loss: 1.1677 - val_acc: 0.5854\n",
      "Epoch 8/30\n",
      "15s - loss: 0.7560 - acc: 0.7427 - val_loss: 1.1371 - val_acc: 0.5896\n",
      "Epoch 9/30\n",
      "15s - loss: 0.6363 - acc: 0.7896 - val_loss: 1.0500 - val_acc: 0.6437\n",
      "Epoch 10/30\n",
      "15s - loss: 0.5262 - acc: 0.8333 - val_loss: 1.0099 - val_acc: 0.6187\n",
      "Epoch 11/30\n",
      "16s - loss: 0.4432 - acc: 0.8615 - val_loss: 0.9617 - val_acc: 0.6458\n",
      "Epoch 12/30\n",
      "16s - loss: 0.3949 - acc: 0.8818 - val_loss: 0.9525 - val_acc: 0.6521\n",
      "Epoch 13/30\n",
      "17s - loss: 0.2885 - acc: 0.9177 - val_loss: 0.8759 - val_acc: 0.6750\n",
      "Epoch 14/30\n",
      "16s - loss: 0.2118 - acc: 0.9453 - val_loss: 0.8081 - val_acc: 0.7083\n",
      "Epoch 15/30\n",
      "16s - loss: 0.1588 - acc: 0.9630 - val_loss: 0.8485 - val_acc: 0.7250\n",
      "Epoch 16/30\n",
      "17s - loss: 0.1502 - acc: 0.9641 - val_loss: 0.9091 - val_acc: 0.7104\n",
      "Epoch 17/30\n",
      "16s - loss: 0.1425 - acc: 0.9635 - val_loss: 0.8120 - val_acc: 0.7250\n",
      "Epoch 18/30\n",
      "15s - loss: 0.0949 - acc: 0.9823 - val_loss: 0.7479 - val_acc: 0.7479\n",
      "Epoch 19/30\n",
      "16s - loss: 0.0755 - acc: 0.9859 - val_loss: 0.7386 - val_acc: 0.7521\n",
      "Epoch 20/30\n",
      "18s - loss: 0.0613 - acc: 0.9875 - val_loss: 0.7794 - val_acc: 0.7438\n",
      "Epoch 21/30\n",
      "17s - loss: 0.0455 - acc: 0.9917 - val_loss: 0.8109 - val_acc: 0.7354\n",
      "Epoch 22/30\n",
      "18s - loss: 0.0356 - acc: 0.9948 - val_loss: 0.7608 - val_acc: 0.7708\n",
      "Epoch 23/30\n",
      "17s - loss: 0.0366 - acc: 0.9922 - val_loss: 0.8394 - val_acc: 0.7604\n",
      "Epoch 24/30\n",
      "16s - loss: 0.0354 - acc: 0.9917 - val_loss: 0.8115 - val_acc: 0.7479\n",
      "Epoch 25/30\n",
      "15s - loss: 0.0282 - acc: 0.9974 - val_loss: 0.7251 - val_acc: 0.7708\n",
      "Epoch 26/30\n",
      "16s - loss: 0.0315 - acc: 0.9953 - val_loss: 0.8662 - val_acc: 0.7292\n",
      "Epoch 27/30\n",
      "16s - loss: 0.0317 - acc: 0.9943 - val_loss: 0.7841 - val_acc: 0.7625\n",
      "Epoch 28/30\n",
      "16s - loss: 0.0217 - acc: 0.9984 - val_loss: 0.8484 - val_acc: 0.7437\n",
      "Epoch 29/30\n",
      "16s - loss: 0.0232 - acc: 0.9948 - val_loss: 0.7403 - val_acc: 0.7750\n",
      "Epoch 30/30\n",
      "16s - loss: 0.0742 - acc: 0.9802 - val_loss: 0.8533 - val_acc: 0.7354\n",
      "训练完成...\n",
      "保存成功\n"
     ]
    }
   ],
   "source": [
    "file_path = '../../data/numbers_speech/'\n",
    "\n",
    "print('获取训练数据...')\n",
    "train_data, labels = get_number_speech_mfcc_files(file_path)\n",
    "train_one_hot = np_utils.to_categorical(labels)\n",
    "print('获取训练数据成功...')\n",
    "print(train_data.shape[1])\n",
    "print(train_data.shape[2])\n",
    "print('开始训练...')\n",
    "model = create_model(train_data.shape[1], train_data.shape[2])\n",
    "model.fit(train_data, train_one_hot, validation_split=0.2, batch_size=128, epochs=30, verbose=2)\n",
    "print('训练完成...')\n",
    "model.save_weights(\"../savemodel/speechModel.h5\")\n",
    "print(\"保存成功\")"
   ]
  },
  {
   "cell_type": "code",
   "execution_count": null,
   "metadata": {
    "collapsed": true
   },
   "outputs": [],
   "source": []
  }
 ],
 "metadata": {
  "anaconda-cloud": {},
  "kernelspec": {
   "display_name": "Python [default]",
   "language": "python",
   "name": "python3"
  },
  "language_info": {
   "codemirror_mode": {
    "name": "ipython",
    "version": 3
   },
   "file_extension": ".py",
   "mimetype": "text/x-python",
   "name": "python",
   "nbconvert_exporter": "python",
   "pygments_lexer": "ipython3",
   "version": "3.5.2"
  }
 },
 "nbformat": 4,
 "nbformat_minor": 1
}
