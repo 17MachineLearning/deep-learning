{
 "cells": [
  {
   "cell_type": "code",
   "execution_count": 1,
   "metadata": {
    "collapsed": false
   },
   "outputs": [
    {
     "name": "stderr",
     "output_type": "stream",
     "text": [
      "Using TensorFlow backend.\n"
     ]
    }
   ],
   "source": [
    "import os\n",
    "import librosa\n",
    "import numpy as np\n",
    "from keras.models import Sequential\n",
    "from keras.layers import Dense, LSTM, Dropout"
   ]
  },
  {
   "cell_type": "code",
   "execution_count": 2,
   "metadata": {
    "collapsed": true
   },
   "outputs": [],
   "source": [
    "def create_model(width=20, height=80):\n",
    "    batch_size = 64\n",
    "    classes = 10\n",
    "\n",
    "    print('建立模型...')\n",
    "    model = Sequential()\n",
    "    model.add(LSTM(128 * 4, input_shape=(width, height)))\n",
    "    model.add(Dropout(0.5))\n",
    "    model.add(Dense(classes, activation='softmax'))\n",
    "    model.summary()\n",
    "    model.compile(loss='categorical_crossentropy', optimizer='adam', metrics=['accuracy'])\n",
    "    print('建立模型成功...')\n",
    "\n",
    "    return model"
   ]
  },
  {
   "cell_type": "code",
   "execution_count": 3,
   "metadata": {
    "collapsed": false
   },
   "outputs": [
    {
     "name": "stdout",
     "output_type": "stream",
     "text": [
      "建立模型...\n",
      "_________________________________________________________________\n",
      "Layer (type)                 Output Shape              Param #   \n",
      "=================================================================\n",
      "lstm_1 (LSTM)                (None, 512)               1214464   \n",
      "_________________________________________________________________\n",
      "dropout_1 (Dropout)          (None, 512)               0         \n",
      "_________________________________________________________________\n",
      "dense_1 (Dense)              (None, 10)                5130      \n",
      "=================================================================\n",
      "Total params: 1,219,594\n",
      "Trainable params: 1,219,594\n",
      "Non-trainable params: 0\n",
      "_________________________________________________________________\n",
      "建立模型成功...\n",
      "加载模型成功\n",
      "4/4 [==============================] - 0s\n",
      "声音文件路径： ../../data/numbers_speech/0_Agnes_120.wav\n",
      "预测值声音值是： 0\n",
      "声音文件路径： ../../data/numbers_speech/8_Agnes_220.wav\n",
      "预测值声音值是： 8\n",
      "声音文件路径： ../../data/numbers_speech/4_Bruce_360.wav\n",
      "预测值声音值是： 6\n",
      "声音文件路径： ../../data/numbers_speech/2_Kathy_380.wav\n",
      "预测值声音值是： 2\n"
     ]
    }
   ],
   "source": [
    "model = create_model()\n",
    "\n",
    "try:\n",
    "    model.load_weights(\"../savemodel/speechModel.h5\")\n",
    "    print(\"加载模型成功\")\n",
    "except:\n",
    "    print(\"加载模型失败\")\n",
    "\n",
    "wav_files = [\n",
    "    '../../data/numbers_speech/0_Agnes_120.wav',\n",
    "    '../../data/numbers_speech/8_Agnes_220.wav',\n",
    "    '../../data/numbers_speech/4_Bruce_360.wav',\n",
    "    '../../data/numbers_speech/2_Kathy_380.wav'\n",
    "]\n",
    "\n",
    "mfcc_batch_features = []\n",
    "# 为输入文件分类\n",
    "for input_file in wav_files:\n",
    "    wave, sr = librosa.load(input_file, mono=True)\n",
    "    mfcc = librosa.feature.mfcc(wave, sr)\n",
    "    # print(np.array(mfcc).shape)\n",
    "    # 补齐  (0, 0) 表示水平方向上面下面都加0行\n",
    "    #       (0, 80 - len(mfcc[0])) 表示左面加0列，右面加(80 - len(mfcc[0]))列，保证一共80列\n",
    "    mfcc = np.pad(mfcc, ((0, 0), (0, 80 - len(mfcc[0]))), mode='constant', constant_values=0)\n",
    "    mfcc_batch_features.append(mfcc)\n",
    "\n",
    "predict = model.predict_classes(np.array(mfcc_batch_features))\n",
    "\n",
    "for i, j in enumerate(wav_files):\n",
    "    print('声音文件路径：', j)\n",
    "    print('预测值声音值是：', predict[i])"
   ]
  },
  {
   "cell_type": "code",
   "execution_count": null,
   "metadata": {
    "collapsed": true
   },
   "outputs": [],
   "source": []
  }
 ],
 "metadata": {
  "anaconda-cloud": {},
  "kernelspec": {
   "display_name": "Python [default]",
   "language": "python",
   "name": "python3"
  },
  "language_info": {
   "codemirror_mode": {
    "name": "ipython",
    "version": 3
   },
   "file_extension": ".py",
   "mimetype": "text/x-python",
   "name": "python",
   "nbconvert_exporter": "python",
   "pygments_lexer": "ipython3",
   "version": "3.5.2"
  }
 },
 "nbformat": 4,
 "nbformat_minor": 1
}
